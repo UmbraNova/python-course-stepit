{
 "cells": [
  {
   "cell_type": "code",
   "execution_count": null,
   "metadata": {},
   "outputs": [],
   "source": [
    "num = 1\n",
    "while num < 94:\n",
    "    num += 4\n",
    "    print(num)"
   ]
  },
  {
   "cell_type": "code",
   "execution_count": null,
   "metadata": {},
   "outputs": [],
   "source": [
    "i = 5\n",
    "while i<100:\n",
    "    print(i)\n",
    "    i+=4"
   ]
  },
  {
   "cell_type": "code",
   "execution_count": null,
   "metadata": {},
   "outputs": [],
   "source": [
    "# lst = [i for i in range(1, 101)]\n",
    "# for i in lst:\n",
    "#     if i % 7 == 0:\n",
    "#         print(i)\n",
    "\n",
    "# for i in [j for j in range(1, 101)]:\n",
    "#     if i % 7 == 0:\n",
    "#         print(i)\n",
    "\n",
    "# lst = [print(i) for i in range(1, 101) if i % 7 == 0]\n",
    "\n",
    "# for i in range(6, len(lst), 7):\n",
    "#     print(lst[i])\n",
    "\n",
    "\n",
    "vector = list(range(1, 101))\n",
    "for i in vector:\n",
    "    if i % 7 == 0:\n",
    "        print(i)\n",
    "\n"
   ]
  },
  {
   "cell_type": "code",
   "execution_count": null,
   "metadata": {},
   "outputs": [],
   "source": [
    "class Solution(object):\n",
    "    def fizzBuzz(self, n):\n",
    "        for i in range(n + 1):\n",
    "            if i % 3 == 0 and i % 5 == 0:\n",
    "                print(\"FizzBuzz\")\n",
    "            elif i % 3 == 0:\n",
    "                print(\"Fizz\")\n",
    "            elif i % 5 == 0:\n",
    "                print(\"Buzz\")\n",
    "            else:\n",
    "                print(i)\n",
    "\n",
    "        return 1\n",
    "\n",
    "\n",
    "Solution.fizzBuzz(0, 20)\n"
   ]
  },
  {
   "cell_type": "code",
   "execution_count": null,
   "metadata": {},
   "outputs": [],
   "source": [
    "# vector = [4, 1, 2, 1, 2]\n",
    "\n",
    "# temp = \"\"\n",
    "\n",
    "# for i in vector:\n",
    "#     for j in vector:\n",
    "#         if j == i:\n",
    "#             temp += str(j)\n",
    "\n",
    "\n",
    "#     if len(temp) == 1:\n",
    "#         print(i)\n",
    "#         break\n",
    "#     temp = \"\"\n",
    "\n",
    "\n",
    "# vector = [4, 1, 2, 1, 2]\n",
    "# for i in vector:\n",
    "#     if vector.count(i) == 1:\n",
    "#         print(i)"
   ]
  }
 ],
 "metadata": {
  "kernelspec": {
   "display_name": "Python 3",
   "language": "python",
   "name": "python3"
  },
  "language_info": {
   "codemirror_mode": {
    "name": "ipython",
    "version": 3
   },
   "file_extension": ".py",
   "mimetype": "text/x-python",
   "name": "python",
   "nbconvert_exporter": "python",
   "pygments_lexer": "ipython3",
   "version": "3.11.2"
  },
  "orig_nbformat": 4
 },
 "nbformat": 4,
 "nbformat_minor": 2
}
