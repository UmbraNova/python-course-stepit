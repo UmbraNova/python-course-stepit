{
 "cells": [
  {
   "cell_type": "code",
   "execution_count": null,
   "metadata": {},
   "outputs": [],
   "source": [
    "def kWeakestRows(mat, k):\n",
    "    \"\"\"\n",
    "    :type mat: List[List[int]]\n",
    "    :type k: int\n",
    "    :rtype: List[int]\n",
    "    \"\"\"\n",
    "    lst = ((mat[i].count(1), i) for i in range(len(mat)))\n",
    "    return [i[1] for i in sorted(lst)][:k]\n",
    "        \n",
    "print(kWeakestRows([[1,1,0,0,0],[1,1,1,1,0],[1,0,0,0,0],[1,1,0,0,0],[1,1,1,1,1]], 3))\n",
    "# lst = [(1, 2), (3, 4), (1, 0), (1, 2), (2, 7)]\n",
    "# print(sorted(lst))"
   ]
  },
  {
   "cell_type": "code",
   "execution_count": null,
   "metadata": {},
   "outputs": [],
   "source": [
    "def canConstruct(ransomNote, magazine):\n",
    "    magazine = list(magazine)\n",
    "    for i in ransomNote:\n",
    "        if i in magazine:\n",
    "            magazine[magazine.index(i)] = \"\"\n",
    "        else:\n",
    "            return False    \n",
    "    return True\n",
    "\n",
    "canConstruct(\"aa\", \"ab\")"
   ]
  },
  {
   "cell_type": "code",
   "execution_count": null,
   "metadata": {},
   "outputs": [],
   "source": [
    "def canConstruct(self, ransomNote, magazine):\n",
    "    for i in ransomNote:\n",
    "        if i in magazine:\n",
    "            print(magazine)\n",
    "            magazine.replace(i, \"\", 2)\n",
    "            print(magazine)\n",
    "\n",
    "        else:\n",
    "            print(\"12321421424\")\n",
    "            return False    \n",
    "        print(magazine)\n",
    "    \n",
    "    return True\n",
    "\n",
    "canConstruct(0, \"aa\", \"ab\")"
   ]
  },
  {
   "cell_type": "code",
   "execution_count": null,
   "metadata": {},
   "outputs": [],
   "source": [
    "def smallerNumbersThanCurrent(self, nums):\n",
    "    \"\"\"\n",
    "    :type nums: List[int]\n",
    "    :rtype: List[int]\n",
    "    \"\"\"\n",
    "\n",
    "    lst = []\n",
    "    for i in nums:\n",
    "        count = 0\n",
    "        for j in nums:\n",
    "            if i > j:\n",
    "                count += 1\n",
    "        lst.append(count)\n",
    "\n",
    "    print(lst)\n",
    "\n",
    "smallerNumbersThanCurrent(0, [8,1,2,2,3])\n"
   ]
  },
  {
   "cell_type": "code",
   "execution_count": 3,
   "metadata": {},
   "outputs": [
    {
     "data": {
      "text/plain": [
       "[1, 2]"
      ]
     },
     "execution_count": 3,
     "metadata": {},
     "output_type": "execute_result"
    }
   ],
   "source": [
    "def twoSum(self, nums, target):\n",
    "    \"\"\"\n",
    "    :type nums: List[int]\n",
    "    :type target: int\n",
    "    :rtype: List[int]\n",
    "    \"\"\"\n",
    "    l = len(nums)\n",
    "    for i in range(l):\n",
    "        for j in range(i, l-1):\n",
    "            if nums[i] + nums[j+1] == target:\n",
    "                return [i, j+1]\n",
    "        \n",
    "\n",
    "twoSum(0, [2,5,5,11], 10)"
   ]
  },
  {
   "cell_type": "code",
   "execution_count": 4,
   "metadata": {},
   "outputs": [
    {
     "data": {
      "text/plain": [
       "(1, 2)"
      ]
     },
     "execution_count": 4,
     "metadata": {},
     "output_type": "execute_result"
    }
   ],
   "source": [
    "def twoSum(self, nums, target):\n",
    "    return [(i, j+1) for i in range(len(nums)) for j in range(i, len(nums)-1) if nums[i] + nums[j+1] == target][0]\n",
    "\n",
    "twoSum(0, [2,5,5,11], 10)"
   ]
  },
  {
   "cell_type": "code",
   "execution_count": 1,
   "metadata": {},
   "outputs": [
    {
     "data": {
      "text/plain": [
       "[3, 2]"
      ]
     },
     "execution_count": 1,
     "metadata": {},
     "output_type": "execute_result"
    }
   ],
   "source": [
    "# def twoSum(self, nums, target):\n",
    "#     dct = dict()\n",
    "\n",
    "#     for i in range(len(nums)):\n",
    "#         if nums[i] in dct:\n",
    "#             return [i, dct[nums[i]]]\n",
    "#         else:\n",
    "#             dct[target-nums[i]] = i\n",
    "\n",
    "\n",
    "def twoSum(self, nums, target):\n",
    "    dct = dict()\n",
    "\n",
    "    for i in range(len(nums)):\n",
    "        if nums[i] not in dct:\n",
    "            dct[target-nums[i]] = i\n",
    "        else:\n",
    "            return [i, dct[nums[i]]]\n",
    "\n",
    "\n",
    "twoSum(0, [29, 49, 2,7,11,15], 9)\n"
   ]
  }
 ],
 "metadata": {
  "kernelspec": {
   "display_name": "Python 3",
   "language": "python",
   "name": "python3"
  },
  "language_info": {
   "codemirror_mode": {
    "name": "ipython",
    "version": 3
   },
   "file_extension": ".py",
   "mimetype": "text/x-python",
   "name": "python",
   "nbconvert_exporter": "python",
   "pygments_lexer": "ipython3",
   "version": "3.11.2"
  },
  "orig_nbformat": 4
 },
 "nbformat": 4,
 "nbformat_minor": 2
}
