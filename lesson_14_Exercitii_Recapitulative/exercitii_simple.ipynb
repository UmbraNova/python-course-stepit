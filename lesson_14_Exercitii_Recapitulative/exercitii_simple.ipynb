{
 "cells": [
  {
   "attachments": {},
   "cell_type": "markdown",
   "metadata": {},
   "source": [
    "### Exercitii simple cu ce am lucrat pana acum\n",
    "\n",
    "1. Scrieti un program care afiseaza \"Hello, World!\".\n",
    "\n",
    "2. Scrieti o functie care primeste ca parametru un nume si afiseaza \"Hello, nume!\"\n",
    "\n",
    "3. Scrieti o functie care primeste ca parametru un numar n, si afiseaza numerele de la 1 la n.\n",
    "\n",
    "4. Scrieti o functie care primeste ca parametru un numar n, si verifica daca este par. Va returna True/False. \n",
    "\n",
    "5. Scrieti o functie care primeste ca parametru un string si afiseaza numarul de caractere din acel string. \n",
    "\n",
    "6. Scrieti o functie care primeste doua numere si afiseaza numarul mai mare. \n",
    "\n",
    "7. Scrieti o functie care primeste o lista si returneaza suma numerelor din acea lista.\n",
    "\n",
    "8. Scrieti o functie care primeste un numar n si afiseaza numerele pare mai mici decat acesta.\n",
    "\n",
    "9. Scrieti o functie care primeste o lista de numere si o afiseaza in ordine inversa. \n",
    "\n",
    "10. Scrieti o functie care primeste o lista de numere si afiseaza numerele pare din aceasta. \n",
    "\n",
    "11. Scrieti o functie care primeste un string si afiseaza numarul de vocale din acesta. \n",
    "\n",
    "12. Scrieti o functie care primeste un numar si afiseaza suma cifrelor acelui numar. \n",
    "\n",
    "13. Scrieti o functie care primeste un numar n si construieste doua liste, una cu numerele impare pana la n, si cealalta cu pare. \n",
    "\n",
    "14. Scrieti o functie care primeste o lista si construieste un dictionar cu chei indecsi incepand de la 0 si valorile din lista. \n",
    "\n",
    "15. Scrieti o functie care primeste un dictionar si afiseaza cheile. \n",
    "\n",
    "16. Scrieti o functie care primeste un dictionar si adauga intr-o lista intai cheile in ordine, apoi valorile. \n",
    "\n",
    "17. Scrieti o functie care primeste un string si verifica daca are mai mult de 10 caractere. Va returna True/False. \n",
    "\n",
    "18. Scrieti o functie care primeste o lista de numere in ordine aleatorie si afiseaza cea mai mare suma a doua numere din acea lista. \n",
    "\n",
    "19. Scrieti o functie care primeste doua liste de numere si afiseaza cate numere din cele doua liste sunt egale. \n",
    "\n",
    "20. Scrieti o functie care primeste un dictionar si sorteaza valorile. Va returna dictionarul cu aceleasi chei si valorile sortate."
   ]
  }
 ],
 "metadata": {
  "kernelspec": {
   "display_name": "Python 3",
   "language": "python",
   "name": "python3"
  },
  "language_info": {
   "codemirror_mode": {
    "name": "ipython",
    "version": 3
   },
   "file_extension": ".py",
   "mimetype": "text/x-python",
   "name": "python",
   "nbconvert_exporter": "python",
   "pygments_lexer": "ipython3",
   "version": "3.11.3"
  },
  "orig_nbformat": 4
 },
 "nbformat": 4,
 "nbformat_minor": 2
}
