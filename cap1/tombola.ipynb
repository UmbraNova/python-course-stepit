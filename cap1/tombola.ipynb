{
 "cells": [
  {
   "cell_type": "code",
   "execution_count": 1,
   "metadata": {},
   "outputs": [
    {
     "ename": "FileNotFoundError",
     "evalue": "[Errno 2] No such file or directory: '_my_code/last_name.txt'",
     "output_type": "error",
     "traceback": [
      "\u001b[1;31m---------------------------------------------------------------------------\u001b[0m",
      "\u001b[1;31mFileNotFoundError\u001b[0m                         Traceback (most recent call last)",
      "Cell \u001b[1;32mIn[1], line 4\u001b[0m\n\u001b[0;32m      1\u001b[0m \u001b[39mimport\u001b[39;00m \u001b[39mrandom\u001b[39;00m\n\u001b[1;32m----> 4\u001b[0m last_name \u001b[39m=\u001b[39m \u001b[39mopen\u001b[39;49m(\u001b[39m\"\u001b[39;49m\u001b[39m_my_code/last_name.txt\u001b[39;49m\u001b[39m\"\u001b[39;49m, \u001b[39m\"\u001b[39;49m\u001b[39mr+\u001b[39;49m\u001b[39m\"\u001b[39;49m)\n\u001b[0;32m      7\u001b[0m \u001b[39mdef\u001b[39;00m \u001b[39mstudentProbability\u001b[39m(data):\n\u001b[0;32m      8\u001b[0m     probChanged \u001b[39m=\u001b[39m []\n",
      "File \u001b[1;32m~\\AppData\\Roaming\\Python\\Python311\\site-packages\\IPython\\core\\interactiveshell.py:284\u001b[0m, in \u001b[0;36m_modified_open\u001b[1;34m(file, *args, **kwargs)\u001b[0m\n\u001b[0;32m    277\u001b[0m \u001b[39mif\u001b[39;00m file \u001b[39min\u001b[39;00m {\u001b[39m0\u001b[39m, \u001b[39m1\u001b[39m, \u001b[39m2\u001b[39m}:\n\u001b[0;32m    278\u001b[0m     \u001b[39mraise\u001b[39;00m \u001b[39mValueError\u001b[39;00m(\n\u001b[0;32m    279\u001b[0m         \u001b[39mf\u001b[39m\u001b[39m\"\u001b[39m\u001b[39mIPython won\u001b[39m\u001b[39m'\u001b[39m\u001b[39mt let you open fd=\u001b[39m\u001b[39m{\u001b[39;00mfile\u001b[39m}\u001b[39;00m\u001b[39m by default \u001b[39m\u001b[39m\"\u001b[39m\n\u001b[0;32m    280\u001b[0m         \u001b[39m\"\u001b[39m\u001b[39mas it is likely to crash IPython. If you know what you are doing, \u001b[39m\u001b[39m\"\u001b[39m\n\u001b[0;32m    281\u001b[0m         \u001b[39m\"\u001b[39m\u001b[39myou can use builtins\u001b[39m\u001b[39m'\u001b[39m\u001b[39m open.\u001b[39m\u001b[39m\"\u001b[39m\n\u001b[0;32m    282\u001b[0m     )\n\u001b[1;32m--> 284\u001b[0m \u001b[39mreturn\u001b[39;00m io_open(file, \u001b[39m*\u001b[39;49margs, \u001b[39m*\u001b[39;49m\u001b[39m*\u001b[39;49mkwargs)\n",
      "\u001b[1;31mFileNotFoundError\u001b[0m: [Errno 2] No such file or directory: '_my_code/last_name.txt'"
     ]
    }
   ],
   "source": [
    "import random\n",
    "\n",
    "\n",
    "last_name = open(\"_my_code/last_name.txt\", \"r+\")\n",
    "\n",
    "\n",
    "def studentProbability(data):\n",
    "    probChanged = []\n",
    "\n",
    "    for student in data:\n",
    "        for _ in range(student[1]):\n",
    "            probChanged.append(student[0])\n",
    "    return probChanged\n",
    "\n",
    "\n",
    "def lastNameCheck(data):\n",
    "    for i_elem in range(len(data)-1):\n",
    "        print(data[i_elem][0], data[i_elem][1])\n",
    "        if data[i_elem][0] in last_name.readlines()[-1]:\n",
    "            data[i_elem][1] = 0\n",
    "    return data\n",
    "\n",
    "students = [\n",
    "    [\"Pila Andrei\", 10], \n",
    "    [\"Craciun Rafael Alexandru\", 2],\n",
    "    [\"Rau Ivona Maria\", 0],\n",
    "    [\"Andrei Stoiceanu\", 0],\n",
    "    [\"Ivan Cecilia\", 0],\n",
    "    [\"Tibrigan Nicolae\", 0],\n",
    "    [\"Nedelcu Alexandru\", 0],\n",
    "    [\"Robu Bogdan\", 0],\n",
    "    [\"Andrei Netoiu\", 5]\n",
    "    ]\n",
    "\n",
    "alter_students = lastNameCheck(students)\n",
    "\n",
    "result = studentProbability(alter_students)\n",
    "# result = studentProbability(students)\n",
    "     \n",
    "chosen_one = result[random.randint(0, len(result)-1)]\n",
    "last_name.write(\"\\n\"+chosen_one)\n",
    "# print(chosen_one)\n",
    "\n",
    "\n",
    "last_name.close()"
   ]
  }
 ],
 "metadata": {
  "kernelspec": {
   "display_name": "Python 3",
   "language": "python",
   "name": "python3"
  },
  "language_info": {
   "codemirror_mode": {
    "name": "ipython",
    "version": 3
   },
   "file_extension": ".py",
   "mimetype": "text/x-python",
   "name": "python",
   "nbconvert_exporter": "python",
   "pygments_lexer": "ipython3",
   "version": "3.11.2"
  },
  "orig_nbformat": 4
 },
 "nbformat": 4,
 "nbformat_minor": 2
}
