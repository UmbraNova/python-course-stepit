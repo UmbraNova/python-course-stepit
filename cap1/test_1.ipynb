{
 "cells": [
  {
   "cell_type": "code",
   "execution_count": 25,
   "metadata": {},
   "outputs": [
    {
     "name": "stdout",
     "output_type": "stream",
     "text": [
      "0\n",
      "16\n"
     ]
    },
    {
     "data": {
      "text/plain": [
       "0"
      ]
     },
     "execution_count": 25,
     "metadata": {},
     "output_type": "execute_result"
    }
   ],
   "source": [
    "def maximumWealth(self, accounts):\n",
    "    summ = 0\n",
    "    prev = 0\n",
    "    for i in accounts:\n",
    "        if isinstance(i, int):\n",
    "            return sum(accounts)\n",
    "        else:\n",
    "            x = maximumWealth(0, i)\n",
    "            if  x > prev:\n",
    "                print(prev)\n",
    "                prev = x\n",
    "    return summ\n",
    "\n",
    "\n",
    "\n",
    "\n",
    "maximumWealth(0, [[1, 6, 9],[2,8,7],[7,1,3],[1,9,5],[1, 2, 9],[1, 2, 6]])"
   ]
  },
  {
   "cell_type": "code",
   "execution_count": 5,
   "metadata": {},
   "outputs": [],
   "source": [
    "# 4971ms 15.5 MB\n",
    "class Solution(object):\n",
    "    def singleNumber(self, nums):\n",
    "        for i in nums:\n",
    "            if nums.count(i) == 1:\n",
    "                return i\n",
    "            \n",
    "\n",
    "\n"
   ]
  },
  {
   "cell_type": "code",
   "execution_count": 6,
   "metadata": {},
   "outputs": [
    {
     "name": "stdout",
     "output_type": "stream",
     "text": [
      "100\n",
      "100\n",
      "100\n",
      "100\n",
      "100\n",
      "100\n",
      "100\n",
      "100\n",
      "100\n",
      "100\n"
     ]
    },
    {
     "data": {
      "text/plain": [
       "0.0010006427764892578"
      ]
     },
     "execution_count": 6,
     "metadata": {},
     "output_type": "execute_result"
    }
   ],
   "source": [
    "import time\n",
    "start = time.time()\n",
    "\n",
    "nums = [313, 46, 50, 7, 70, 2, 3, 4, 8, 8, 9, 2, 9, 6, 6, 4, 3, 12, 99, 172, 15, 99, 15, 313, 70, 172, 81, 81, 55, 41, 55, 41, 50, 7, 12, 335, 46, 75, 75, 705, 25, 35, 100, 45, 85, 85, 95, 25, 95, 65, 65, 45, 35, 125, 995, 125, 155, 995, 155, 335, 705, 415, 415]\n",
    "\n",
    "for _ in range(10):\n",
    "    for i in nums:\n",
    "        if nums.count(i) == 1:\n",
    "            print(i)\n",
    "\n",
    "time.time() - start"
   ]
  },
  {
   "cell_type": "code",
   "execution_count": null,
   "metadata": {},
   "outputs": [],
   "source": [
    "import time\n",
    "start = time.time()\n",
    "\n",
    "nums = [313, 46, 50, 7, 70, 2, 3, 4, 8, 8, 9, 2, 9, 6, 6, 4, 3, 12, 99, 172, 15, 99, 15, 313, 70, 172, 81, 81, 55, 41, 55, 41, 50, 7, 12, 335, 46, 75, 75, 705, 25, 35, 100, 45, 85, 85, 95, 25, 95, 65, 65, 45, 35, 125, 995, 125, 155, 995, 155, 335, 705, 415, 415]\n",
    "my_dict = dict()\n",
    "\n",
    "for n in nums:\n",
    "    if n in my_dict:\n",
    "        my_dict.pop(n)\n",
    "    else:\n",
    "        my_dict[n] = 0\n",
    "\n",
    "print(list(my_dict.keys())[0])\n",
    "\n",
    "\n",
    "\n",
    "\n",
    "time.time() - start"
   ]
  },
  {
   "cell_type": "code",
   "execution_count": null,
   "metadata": {},
   "outputs": [],
   "source": [
    "def fizzBuzz(self, n):\n",
    "    my_dict = dict()\n",
    "    for i in range(1, n+1):\n",
    "        if i % 3 == 0 and i % 5 == 0:\n",
    "            my_dict[i] = \"FizzBuzz\"\n",
    "        elif i % 3 == 0:\n",
    "            my_dict[i] = \"Fizz\"\n",
    "        elif i % 5 == 0:\n",
    "            my_dict[i] = \"Buzz\"\n",
    "        else:\n",
    "            my_dict[i] = str(i)\n",
    "    return my_dict.values()\n",
    "\n",
    "\n",
    "\n",
    "fizzBuzz(0, 15)"
   ]
  }
 ],
 "metadata": {
  "kernelspec": {
   "display_name": "Python 3",
   "language": "python",
   "name": "python3"
  },
  "language_info": {
   "codemirror_mode": {
    "name": "ipython",
    "version": 3
   },
   "file_extension": ".py",
   "mimetype": "text/x-python",
   "name": "python",
   "nbconvert_exporter": "python",
   "pygments_lexer": "ipython3",
   "version": "3.11.2"
  },
  "orig_nbformat": 4
 },
 "nbformat": 4,
 "nbformat_minor": 2
}
