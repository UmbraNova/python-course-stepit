{
 "cells": [
  {
   "attachments": {},
   "cell_type": "markdown",
   "metadata": {},
   "source": [
    "# Povestea Python\n",
    "\n",
    "\n",
    "Programare:\n",
    "- date -> ce vine din exterior(informatia pe care vreau sa o prelucrez)\n",
    "- instructiuni -> cum directionez calculatorul sa prelucreze\n",
    "\n",
    "Calculator: vorbeste in cod masina\n",
    "- procesor (CPU) -> Central Processing Unit: se ocupa cu executia instructiunilor\n",
    "- memoria (RAM) -> Random Access Memory: se ocupa cu stocarea datelor\n",
    "- elemente de intrare/iesire (I/O) -> ecran, tastatura, difuzoare, etc.: se ocupa cu interactiunea cu exteriorul\n",
    "\n",
    "Compilator: program care traduce cuvintele programatorului in limbajul calculatorului\n",
    "- traduce codul high level(scris de programator intr-un limbaj de programare) in cod masina(low level, limbajul calculatorului)\n",
    "- limbaje care au nevoie de compilator -> compilate: C, C++, C#\n",
    "- traduce intreg programul dupa ce a fost scris\n",
    "\n",
    "Interpretor: program care traduce instructiunile programatorului *in timp real*(instructiune cu instructiune)\n",
    "- la final programul o sa fie rulat, si nu compilat (nu se executa)\n",
    "\n",
    "Python:\n",
    "- limbaj dinamiclly typed (nu trebuie sa scriu tipul datelor)\n",
    "- limbaj high level (flexibilitate mare)\n",
    "- limbaj <u>**interpretat**</u> si NU compilat\n",
    "\n",
    "\n",
    "\n"
   ]
  },
  {
   "attachments": {},
   "cell_type": "markdown",
   "metadata": {},
   "source": [
    "### Tipuri dinamice cu care vom lucra\n",
    "liste: array dinamic -> vector cu numar variabil de elemente (alaturate de mai multe elemente)\n"
   ]
  }
 ],
 "metadata": {
  "language_info": {
   "name": "python"
  },
  "orig_nbformat": 4
 },
 "nbformat": 4,
 "nbformat_minor": 2
}
