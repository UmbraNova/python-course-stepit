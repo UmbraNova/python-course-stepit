{
 "cells": [
  {
   "cell_type": "code",
   "execution_count": null,
   "metadata": {},
   "outputs": [],
   "source": [
    "def func():  \n",
    "    print()  # apas ctrl si cu mouseul pe \"print\" pt a deschide builtins.pyi\n",
    "    pass\n",
    "\n",
    "\n",
    "\n",
    "# metoda 2\n",
    "def ab_count(data):\n",
    "    dct = {\"a\": 0, \"b\": 0}\n",
    "    for i in data.lower():\n",
    "        if i == \"a\":\n",
    "            dct[i] += 1\n",
    "        elif i == \"b\":\n",
    "            dct[i] += 1\n",
    "    return dct\n",
    "\n",
    "# metoda 1\n",
    "def ab_count(data):\n",
    "    lst = [i for i in data.lower() if i in \"ab\"]\n",
    "    return {\"a\": lst.count(\"a\"), \"b\": lst.count(\"b\")}\n",
    "\n",
    "\n",
    "ab_count(\"Kingdoms and Castles, but expand your culinary kingdom\")\n"
   ]
  },
  {
   "cell_type": "code",
   "execution_count": null,
   "metadata": {},
   "outputs": [],
   "source": [
    "def climbStairs(self, n):\n",
    "    \n",
    "            \n",
    "\n",
    "\n",
    "print(climbStairs(0, 6))\n",
    "print(climbStairs(0, 2))\n",
    "print(climbStairs(0, 3))\n",
    "print(climbStairs(0, 10))\n",
    "print(climbStairs(0, 11))\n",
    "\n"
   ]
  },
  {
   "cell_type": "code",
   "execution_count": null,
   "metadata": {},
   "outputs": [],
   "source": [
    "def climbStairs(self, n):\n",
    "    if n == 1:\n",
    "        return 1\n",
    "    first, second = 1, 2\n",
    "    for i in range(3, n+1):\n",
    "        third = first + second\n",
    "        first = second\n",
    "        second = third\n",
    "    \n",
    "    return second\n",
    "\n",
    "\n",
    "print(climbStairs(0, 2))\n",
    "print(climbStairs(0, 3))\n",
    "print(climbStairs(0, 4))\n",
    "print(climbStairs(0, 5))\n",
    "print()\n",
    "print(climbStairs(0, 6))\n",
    "print(climbStairs(0, 7))\n",
    "print(climbStairs(0, 8))\n",
    "print(climbStairs(0, 9))\n",
    "print()\n",
    "print(climbStairs(0, 10))\n",
    "print(climbStairs(0, 11))\n",
    "print(climbStairs(0, 13))\n",
    "print(climbStairs(0, 15))\n",
    "print()\n",
    "print(climbStairs(0, 20))"
   ]
  },
  {
   "cell_type": "code",
   "execution_count": null,
   "metadata": {},
   "outputs": [],
   "source": [
    "class Solution(object):\n",
    "    def climbStairs(self, n):\n",
    "        if n > 2:\n",
    "            a, b = 0, 1\n",
    "            for i in range(n):\n",
    "                c = a + b\n",
    "                a = b\n",
    "                b = c\n",
    "            return b\n",
    "        return n"
   ]
  },
  {
   "cell_type": "code",
   "execution_count": null,
   "metadata": {},
   "outputs": [],
   "source": [
    "def climbStairs(self, n):\n",
    "    dct = {1: 1, 2: 2, 3: 3, 4: 5, 5: 8, 6: 13, 7: 21, 8: 34, 9: 55, 10: 89, 11: 144, 12: 233, 13: 377, 14: 610, 15: 987, 16: 1597, 17: 2584, 18: 4181, 19: 6765, 20: 10946, 21: 17711, 22: 28657, 23: 46368, 24: 75025, 25: 121393, 26: 196418, 27: 317811, 28: 514229, 29: 832040, 30: 1346269, 31: 2178309, 32: 3524578, 33: 5702887, 34: 9227465, 35: 14930352, 36: 24157817, 37: 39088169, 38: 63245986, 39: 102334155, 40: 165580141, 41: 267914296, 42: 433494437, 43: 701408733, 44: 1134903170, 45: 1836311903}\n",
    "    return dct.get(n)\n",
    "\n",
    "\n",
    "print(climbStairs(0, 8))"
   ]
  },
  {
   "cell_type": "code",
   "execution_count": null,
   "metadata": {},
   "outputs": [],
   "source": [
    "class Solution(object):\n",
    "    def climbStairs(self, n):\n",
    "        if n > 2:\n",
    "            a,b = 0,1\n",
    "            for _ in range(n):\n",
    "                a,b=b,a+b\n",
    "            return b\n",
    "        return n\n",
    "\n",
    "print(climbStairs(0, 8))"
   ]
  }
 ],
 "metadata": {
  "kernelspec": {
   "display_name": "Python 3",
   "language": "python",
   "name": "python3"
  },
  "language_info": {
   "codemirror_mode": {
    "name": "ipython",
    "version": 3
   },
   "file_extension": ".py",
   "mimetype": "text/x-python",
   "name": "python",
   "nbconvert_exporter": "python",
   "pygments_lexer": "ipython3",
   "version": "3.11.2"
  },
  "orig_nbformat": 4
 },
 "nbformat": 4,
 "nbformat_minor": 2
}
