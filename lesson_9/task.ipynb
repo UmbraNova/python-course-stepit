{
 "cells": [
  {
   "cell_type": "code",
   "execution_count": null,
   "metadata": {},
   "outputs": [],
   "source": [
    "my_dict = dict()\n",
    "for i in range(10):\n",
    "    my_dict[i] = i*2+2\n",
    "\n",
    "print(my_dict.keys())\n",
    "print(my_dict.values())\n"
   ]
  },
  {
   "cell_type": "code",
   "execution_count": null,
   "metadata": {},
   "outputs": [],
   "source": [
    "#=====================================================\n",
    "text, vowels = \"anaaremere\", \"aeiou\"\n",
    "my_dict = {\"a\": 0, \"e\": 0, \"i\": 0, \"o\": 0, \"u\": 0}\n",
    "\n",
    "for i_sym in text:\n",
    "    if i_sym in vowels:\n",
    "        my_dict[i_sym] += 1\n",
    "\n",
    "print(\"Rezultat: \")\n",
    "for key, value in my_dict.items():\n",
    "    print(f\"{key} : {value}\")"
   ]
  },
  {
   "cell_type": "code",
   "execution_count": null,
   "metadata": {},
   "outputs": [],
   "source": [
    "#=====================================================\n",
    "text, vowels = \"anaaremere\", \"aeiou\"\n",
    "my_dict = dict()\n",
    "\n",
    "for vowel in vowels:\n",
    "    my_dict[vowel] = text.count(vowel)\n",
    "\n",
    "print(\"Rezultat: \")\n",
    "for key, value in my_dict.items():\n",
    "    print(f\"{key} : {value}\")"
   ]
  },
  {
   "cell_type": "code",
   "execution_count": null,
   "metadata": {},
   "outputs": [],
   "source": [
    "text = \"anaaremere\"\n",
    "print(\"Rezultat: \")\n",
    "for vowel in \"aeiou\":\n",
    "    print(\"{} : {}\".format(vowel, text.count(vowel)))"
   ]
  },
  {
   "cell_type": "code",
   "execution_count": null,
   "metadata": {},
   "outputs": [],
   "source": [
    "def decodeMessage(self, key, message):\n",
    "    abc = \"abcdefghijklmnopqrstuvwxyz\"\n",
    "    decode = dict()\n",
    "    index = 0\n",
    "    for sym in key:\n",
    "        if sym.isalpha() and index < 26 and sym not in decode:\n",
    "            decode[sym] = abc[index]\n",
    "            index += 1\n",
    "\n",
    "    res = \"\"\n",
    "    for sym in message:\n",
    "        if sym.isalpha():\n",
    "            res += decode[sym]\n",
    "        else:\n",
    "            res += \" \"\n",
    "\n",
    "    print(res)\n",
    "\n",
    "decodeMessage(0, \"the quick brown fox jumps over the lazy dog\", \"vkbs bs t suepuv\")"
   ]
  }
 ],
 "metadata": {
  "kernelspec": {
   "display_name": "Python 3",
   "language": "python",
   "name": "python3"
  },
  "language_info": {
   "codemirror_mode": {
    "name": "ipython",
    "version": 3
   },
   "file_extension": ".py",
   "mimetype": "text/x-python",
   "name": "python",
   "nbconvert_exporter": "python",
   "pygments_lexer": "ipython3",
   "version": "3.11.2"
  },
  "orig_nbformat": 4
 },
 "nbformat": 4,
 "nbformat_minor": 2
}
