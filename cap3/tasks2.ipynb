{
 "cells": [
  {
   "cell_type": "code",
   "execution_count": 2,
   "metadata": {},
   "outputs": [],
   "source": [
    "class Solution(object):\n",
    "    def smallerNumbersThanCurrent(self, nums):\n",
    "        res = []\n",
    "\n",
    "        for elem in nums:\n",
    "            count = 0\n",
    "            for n in nums:\n",
    "                if n < elem:\n",
    "                    count += 1\n",
    "            res.append(count)\n",
    "        \n",
    "        return res"
   ]
  },
  {
   "cell_type": "code",
   "execution_count": 3,
   "metadata": {},
   "outputs": [
    {
     "name": "stdout",
     "output_type": "stream",
     "text": [
      "[4, 0, 1, 1, 3]\n"
     ]
    }
   ],
   "source": [
    "def smallerNumbersThanCurrent(self, nums):\n",
    "    lst = []\n",
    "    for i in nums:\n",
    "        count = 0\n",
    "        for j in nums:\n",
    "            if i > j:\n",
    "                count += 1\n",
    "        lst.append(count)\n",
    "\n",
    "    print(lst)\n",
    "\n",
    "\n",
    "\n",
    "\n",
    "smallerNumbersThanCurrent(0, [8,1,2,2,3])"
   ]
  },
  {
   "cell_type": "code",
   "execution_count": null,
   "metadata": {},
   "outputs": [],
   "source": [
    "def smallerNumbersThanCurrent(self, nums):\n",
    "    sorted_nums = sorted(nums)\n",
    "    return [sorted_nums.index(i) for i in nums]\n",
    "\n",
    "\n",
    "smallerNumbersThanCurrent(0, [8,1,2,2,3])"
   ]
  },
  {
   "cell_type": "code",
   "execution_count": null,
   "metadata": {},
   "outputs": [],
   "source": [
    "def twoSum(self, nums, target):\n",
    "    if nums[0] + nums[1] == target:\n",
    "        return (0, 1)\n",
    "    for i in range(len(nums)):\n",
    "        if target-nums[i] in nums[i+1:]:\n",
    "            return (i, nums[i+1:].index(target-nums[i])+i+1)\n",
    "\n",
    "        \n",
    "print(twoSum(0, [3,2,3], 6))  # [0,2]\n",
    "print(twoSum(0, [3,3], 6))  # [0,1]\n",
    "print(twoSum(0, [3,2,4], 6))  # [1,2]\n",
    "print(twoSum(0, [2, 7, 11, 15], 9))  # [0, 1]"
   ]
  },
  {
   "attachments": {},
   "cell_type": "markdown",
   "metadata": {},
   "source": [
    "nont brutforce method la Smallernum:\n",
    "\n",
    "sortati vectorul si dupa sortare, fiecare elemnt va avea ca index numarul cu numere mai mici decat el.\n",
    "Reconstruiti lista rezultat dupa lista de indecsi. Aveti grija la duplicate.\n",
    "Odata ce am adaugat indexul ei, nu il mai adaug pe urmatorul.\n",
    "\n",
    "---"
   ]
  },
  {
   "attachments": {},
   "cell_type": "markdown",
   "metadata": {},
   "source": [
    "non brutforce method la TwoSum:\n",
    "\n",
    "Two Sum  retineti intr-un dict perechile element - index. Cand am dat de un numar, daca exista in lista numar - target, inaseamna ca am gasit perechea de numere cu suma dorita\n",
    "Cautat idaca exista in lista target minus numar\n",
    "\n",
    "merg prin ei, am adaugat in dict numarul si indexul lui.\n",
    "\n",
    "\n",
    "\n",
    "### <a href =\"https://leetcode.com/problems/two-sum/\"> Suma a doua numere </a>\n",
    "\n",
    "Avand dat un vector de numere intregi si un numar tinta (target), afisati perechea de indecsi ai elementelor din vector care dau suma `target`. De exemplu: <br>\n",
    "`vector = [2,7,11,15], target = 9`\n",
    "\n",
    "Numerele care verifica conditia data sunt 2 si 7, deci se va afisa perechea `[0, 1]` (indecsii lor). Afisati indecsii sub forma de lista. \n",
    "\n",
    "**Hint**: retineti intr-un dictionar perechile element - index. Cand am dat de un numar, daca exista in lista numar - target, inseamna ca am gasit perechea de numere cu suma dorita. "
   ]
  },
  {
   "cell_type": "code",
   "execution_count": null,
   "metadata": {},
   "outputs": [],
   "source": [
    "def twoSum(self, nums, target):\n",
    "    pass\n",
    "\n",
    "        \n",
    "print(twoSum(0, [3,2,3], 6))  # [0,2]\n",
    "print(twoSum(0, [3,3], 6))  # [0,1]\n",
    "print(twoSum(0, [3,2,4], 6))  # [1,2]\n",
    "print(twoSum(0, [2, 7, 11, 15], 9))  # [0, 1]"
   ]
  }
 ],
 "metadata": {
  "kernelspec": {
   "display_name": "Python 3",
   "language": "python",
   "name": "python3"
  },
  "language_info": {
   "codemirror_mode": {
    "name": "ipython",
    "version": 3
   },
   "file_extension": ".py",
   "mimetype": "text/x-python",
   "name": "python",
   "nbconvert_exporter": "python",
   "pygments_lexer": "ipython3",
   "version": "3.11.2"
  },
  "orig_nbformat": 4
 },
 "nbformat": 4,
 "nbformat_minor": 2
}
