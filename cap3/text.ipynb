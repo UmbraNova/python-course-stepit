{
 "cells": [
  {
   "cell_type": "code",
   "execution_count": 2,
   "metadata": {},
   "outputs": [
    {
     "name": "stdout",
     "output_type": "stream",
     "text": [
      "21\n",
      "21\n"
     ]
    }
   ],
   "source": [
    "numbers = [1, 2, 3, 4, 5, 6]\n",
    "print(sum(numbers))\n",
    "\n",
    "var = 0\n",
    "for i in numbers:\n",
    "    var += i\n",
    "print(var)"
   ]
  },
  {
   "cell_type": "code",
   "execution_count": 4,
   "metadata": {},
   "outputs": [
    {
     "name": "stdout",
     "output_type": "stream",
     "text": [
      "2\n"
     ]
    }
   ],
   "source": [
    "lst = [{\"color\": \"green\", \"value\": 3}, {\"color\": \"red\", \"value\":5}, {\"color\": \"roz\", \"value\":7}]\n",
    "count = 0\n",
    "for elem in lst:\n",
    "    if elem[\"color\"] == \"green\":\n",
    "        count += 1\n",
    "\n",
    "print(count)"
   ]
  },
  {
   "cell_type": "code",
   "execution_count": 10,
   "metadata": {},
   "outputs": [
    {
     "name": "stdout",
     "output_type": "stream",
     "text": [
      "the nr 3 it's in the list\n"
     ]
    }
   ],
   "source": [
    "\n",
    "# asta e mai complex, dar parca asa era\n",
    "\n",
    "nums = [1, 1, 3, 4, 5, 6, 7]\n",
    "find_me = 3\n",
    "\n",
    "small = 0\n",
    "big = len(nums) - 1\n",
    "\n",
    "while big - small > 0:\n",
    "    middle = (big + small) // 2\n",
    "    if middle == find_me:\n",
    "        print(f\"the nr {middle} it's in the list\")\n",
    "        break\n",
    "    elif find_me > small:\n",
    "        big = middle\n",
    "    elif find_me < big:\n",
    "        small = middle\n"
   ]
  }
 ],
 "metadata": {
  "kernelspec": {
   "display_name": "Python 3",
   "language": "python",
   "name": "python3"
  },
  "language_info": {
   "codemirror_mode": {
    "name": "ipython",
    "version": 3
   },
   "file_extension": ".py",
   "mimetype": "text/x-python",
   "name": "python",
   "nbconvert_exporter": "python",
   "pygments_lexer": "ipython3",
   "version": "3.11.2"
  },
  "orig_nbformat": 4
 },
 "nbformat": 4,
 "nbformat_minor": 2
}
