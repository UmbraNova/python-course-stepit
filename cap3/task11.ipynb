{
 "cells": [
  {
   "cell_type": "code",
   "execution_count": null,
   "metadata": {},
   "outputs": [],
   "source": [
    "print(13 ^ 13 ^ 13)\n",
    "print(13 ^ 13 ^ 9)\n",
    "print(18 ^ 18)\n",
    "print(18 ^ 0)"
   ]
  },
  {
   "cell_type": "code",
   "execution_count": null,
   "metadata": {},
   "outputs": [],
   "source": [
    "vector = [4, 1, 2, 1, 2]\n",
    "# print(eval(str(vector).replace(\",\", \"^\"))[0])\n",
    "res = 0\n",
    "for n in vector:\n",
    "    res ^= n\n",
    "\n",
    "print(res)"
   ]
  },
  {
   "cell_type": "code",
   "execution_count": null,
   "metadata": {},
   "outputs": [],
   "source": [
    "vector = [4, 5, 6, 7, 8, 9]\n",
    "summ = 0\n",
    "for i in vector:\n",
    "    summ += i\n",
    "\n",
    "print(summ)\n",
    "print(sum(vector))"
   ]
  },
  {
   "cell_type": "code",
   "execution_count": null,
   "metadata": {},
   "outputs": [],
   "source": [
    "vowels = \"aeiouăî\"\n",
    "string = \"Sintetizatorul de voce în limba română vă permite să transformați cu ușurință textul în voce online\"\n",
    "\n",
    "summ = 0\n",
    "for sym in string:\n",
    "    if sym in vowels:\n",
    "        summ += 1\n",
    "\n",
    "print(summ)"
   ]
  },
  {
   "cell_type": "code",
   "execution_count": 18,
   "metadata": {},
   "outputs": [
    {
     "name": "stdout",
     "output_type": "stream",
     "text": [
      "neechilibrat\n"
     ]
    }
   ],
   "source": [
    "# text = \"())())\"  # neechilibrat\n",
    "# text = \"()(()())\"  # echilibrat\n",
    "# text = \")))(((\"\n",
    "text = \"(()))(()\"\n",
    "\n",
    "summ = 0\n",
    "for i in text:\n",
    "    if i == \"(\":\n",
    "        summ += 1\n",
    "    elif i == \")\":\n",
    "        summ -= 1\n",
    "    if summ < 0:\n",
    "        print(\"neechilibrat\")\n",
    "        break\n",
    "\n",
    "\n",
    "if summ == 0:\n",
    "    print(\"echilibrat\")    "
   ]
  }
 ],
 "metadata": {
  "kernelspec": {
   "display_name": "Python 3",
   "language": "python",
   "name": "python3"
  },
  "language_info": {
   "codemirror_mode": {
    "name": "ipython",
    "version": 3
   },
   "file_extension": ".py",
   "mimetype": "text/x-python",
   "name": "python",
   "nbconvert_exporter": "python",
   "pygments_lexer": "ipython3",
   "version": "3.11.2"
  },
  "orig_nbformat": 4
 },
 "nbformat": 4,
 "nbformat_minor": 2
}
